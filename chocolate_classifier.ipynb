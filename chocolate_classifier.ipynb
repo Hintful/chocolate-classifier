{
 "cells": [
  {
   "cell_type": "code",
   "execution_count": 1,
   "metadata": {},
   "outputs": [],
   "source": [
    "from fastai.vision.all import *\n",
    "from fastai.vision.widgets import *"
   ]
  },
  {
   "cell_type": "markdown",
   "metadata": {},
   "source": [
    "## Chocolate Classifier\n",
    "\n",
    "#### Please upload an image of a chocolate - it will be classified on following possible kinds of chocolates:\n",
    "\n",
    "* Aero\n",
    "* Coffee Crisp\n",
    "* Ferrero Rocher\n",
    "* Ghirardelli\n",
    "* Hershey's\n",
    "* Kinder\n",
    "* Kit Kat\n",
    "* Lindor\n",
    "* Reese's\n",
    "* Snickers\n",
    "* Toblerone\n",
    "* Twix"
   ]
  },
  {
   "cell_type": "code",
   "execution_count": 2,
   "metadata": {},
   "outputs": [],
   "source": [
    "path = Path()\n",
    "learn_inf = load_learner(path/'export.pkl')"
   ]
  },
  {
   "cell_type": "code",
   "execution_count": 3,
   "metadata": {},
   "outputs": [],
   "source": [
    "btn_upload = widgets.FileUpload()"
   ]
  },
  {
   "cell_type": "code",
   "execution_count": 4,
   "metadata": {},
   "outputs": [],
   "source": [
    "btn_run = widgets.Button(description='Classify')"
   ]
  },
  {
   "cell_type": "code",
   "execution_count": 5,
   "metadata": {},
   "outputs": [],
   "source": [
    "lbl_pred = widgets.Label() # init\n",
    "lbl_prob = widgets.Label()\n",
    "out_pl = widgets.Output()\n",
    "\n",
    "def on_click_classify(change): # set click event handler\n",
    "    if btn_upload.data:\n",
    "        img = PILImage.create(btn_upload.data[-1])\n",
    "\n",
    "        out_pl.clear_output()\n",
    "        with out_pl: display(img.to_thumb(128,128))\n",
    "\n",
    "        pred, pred_idx, probs = learn_inf.predict(img)\n",
    "        lbl_pred.value = 'Prediction: ' + pred\n",
    "        lbl_prob.value = 'Probability: ' + str(round(probs[pred_idx].item() * 100,2)) + '%' # x.item() must be used to extract value from tensor\n",
    "#         lbl_pred.value = f'Prediction: {pred}; Probability: {probs[pred_idx]:.04f}'\n",
    "\n",
    "btn_run.on_click(on_click_classify) # set handler on btn_run"
   ]
  },
  {
   "cell_type": "code",
   "execution_count": 6,
   "metadata": {},
   "outputs": [
    {
     "data": {
      "application/vnd.jupyter.widget-view+json": {
       "model_id": "97c34490eaf74384a0dd10c09df3d154",
       "version_major": 2,
       "version_minor": 0
      },
      "text/plain": [
       "VBox(children=(Label(value='Upload an image of a chocolate'), FileUpload(value={}, description='Upload'), Butt…"
      ]
     },
     "metadata": {},
     "output_type": "display_data"
    }
   ],
   "source": [
    "VBox([widgets.Label('Upload an image of a chocolate'),\n",
    "     btn_upload, btn_run, out_pl, lbl_pred, lbl_prob])"
   ]
  },
  {
   "cell_type": "code",
   "execution_count": null,
   "metadata": {},
   "outputs": [],
   "source": []
  }
 ],
 "metadata": {
  "kernelspec": {
   "display_name": "Python 3",
   "language": "python",
   "name": "python3"
  },
  "language_info": {
   "codemirror_mode": {
    "name": "ipython",
    "version": 3
   },
   "file_extension": ".py",
   "mimetype": "text/x-python",
   "name": "python",
   "nbconvert_exporter": "python",
   "pygments_lexer": "ipython3",
   "version": "3.8.6"
  }
 },
 "nbformat": 4,
 "nbformat_minor": 4
}
